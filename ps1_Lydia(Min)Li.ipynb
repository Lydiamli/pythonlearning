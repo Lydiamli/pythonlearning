{
  "nbformat": 4,
  "nbformat_minor": 0,
  "metadata": {
    "colab": {
      "provenance": []
    },
    "kernelspec": {
      "name": "python3",
      "display_name": "Python 3"
    },
    "language_info": {
      "name": "python"
    }
  },
  "cells": [
    {
      "cell_type": "markdown",
      "source": [
        "# Part 2  find and remove the invalid response\n",
        "# imagine these are a list of reaction times that you recorded: rt = [400, 450, 500, 440, -1, 410, 570].The -1 indicates missing data. Your job is to remove it.\n",
        "## 1. Use the index method to find the missing value \n",
        "## 2. Use missing_rt to remove the trial from rt\n"
      ],
      "metadata": {
        "id": "_Kw5zBF51CqL"
      }
    },
    {
      "cell_type": "code",
      "source": [
        "rt = [400, 450, 500, -1, 440, 410, 570]\n",
        "missing_rt=rt.index(-1)\n",
        "del rt[missing_rt]\n",
        "print(rt)\n"
      ],
      "metadata": {
        "colab": {
          "base_uri": "https://localhost:8080/"
        },
        "id": "TNMwouzt1cl3",
        "outputId": "2d1011d7-760e-4319-e257-5757363107f7"
      },
      "execution_count": 50,
      "outputs": [
        {
          "output_type": "stream",
          "name": "stdout",
          "text": [
            "[400, 450, 500, 440, 410, 570]\n"
          ]
        }
      ]
    },
    {
      "cell_type": "markdown",
      "source": [
        "## Write an if statement that you can use to remove the first missing value only when there is a missing value (-1) in a list. This statement should always generate a clean_rt list; if there's no missing data clean_rt is set to the original rt list. "
      ],
      "metadata": {
        "id": "fT8aG9Nj01Xb"
      }
    },
    {
      "cell_type": "code",
      "source": [
        "rt = [400, 450, 500, 440, -1, 410, 570]\n",
        "clean_rt= rt.copy()\n",
        "if -1 in rt:\n",
        "  missing_index=rt.index(-1)\n",
        "  del clean_rt[missing_index]\n",
        "print(\"clean_rt=\", clean_rt)"
      ],
      "metadata": {
        "colab": {
          "base_uri": "https://localhost:8080/"
        },
        "id": "halpvPHR5hBs",
        "outputId": "91517632-aaa5-4f4c-c9b0-ccc444a65e80"
      },
      "execution_count": 52,
      "outputs": [
        {
          "output_type": "stream",
          "name": "stdout",
          "text": [
            "clean_rt= [400, 450, 500, 440, 410, 570]\n"
          ]
        },
        {
          "output_type": "execute_result",
          "data": {
            "text/plain": [
              "[400, 450, 500, 440, -1, 410, 570]"
            ]
          },
          "metadata": {},
          "execution_count": 52
        }
      ]
    },
    {
      "cell_type": "markdown",
      "source": [
        "# For the last section, you will work with a list of lists. This master list combines information about each trial in an experiment, where index 0 in each sublist refers to data from the first trial, etc. \n",
        "## 1. using the same approaches  as above, find the trial with missing rt data \n",
        "## 2. Remove it from all sublists in data \n",
        "## 3. Be sure to only work with the master \"data\" list, to practice indexing lists of lists"
      ],
      "metadata": {
        "id": "TRCwvd4U0Uk-"
      }
    },
    {
      "cell_type": "markdown",
      "source": [],
      "metadata": {
        "id": "Q4CpAaBJAzwG"
      }
    },
    {
      "cell_type": "code",
      "source": [
        "rt_new = [400, 450, 500, 440, -1, 410, 570]\n",
        "trial_num = [1,2,3,4,5,6,7]\n",
        "accuracy = [0, 1, 0, 0, 1, 0]\n",
        "data = [rt_new, trial_num, accuracy] \n",
        "if -1 in data[0]:\n",
        "  missing = data[0].index(-1)\n",
        "  del data[0][missing]\n",
        "  del data[1][missing]\n",
        "  del data[2][missing]\n",
        "print(data)"
      ],
      "metadata": {
        "colab": {
          "base_uri": "https://localhost:8080/"
        },
        "id": "pFeAae47-WDd",
        "outputId": "c2458041-b10a-4e0c-a2b9-22083762c766"
      },
      "execution_count": 44,
      "outputs": [
        {
          "output_type": "stream",
          "name": "stdout",
          "text": [
            "[[400, 450, 500, 440, 410, 570], [1, 2, 3, 4, 6, 7], [0, 1, 0, 0, 0]]\n"
          ]
        }
      ]
    }
  ]
}